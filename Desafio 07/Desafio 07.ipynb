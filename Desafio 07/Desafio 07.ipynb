{
 "cells": [
  {
   "cell_type": "markdown",
   "metadata": {},
   "source": [
    "# Desafio 07\n",
    "\n",
    "TNT"
   ]
  },
  {
   "cell_type": "code",
   "execution_count": 1,
   "metadata": {},
   "outputs": [],
   "source": [
    "import pandas as pd\n",
    "import numpy as np"
   ]
  },
  {
   "cell_type": "markdown",
   "metadata": {},
   "source": [
    "# Carregando banco"
   ]
  },
  {
   "cell_type": "code",
   "execution_count": 2,
   "metadata": {},
   "outputs": [],
   "source": [
    "dataset = pd.read_csv('tnt_database.csv')"
   ]
  },
  {
   "cell_type": "code",
   "execution_count": 3,
   "metadata": {},
   "outputs": [
    {
     "name": "stdout",
     "output_type": "stream",
     "text": [
      "<class 'pandas.core.frame.DataFrame'>\n",
      "RangeIndex: 9979 entries, 0 to 9978\n",
      "Data columns (total 17 columns):\n",
      " #   Column        Non-Null Count  Dtype  \n",
      "---  ------        --------------  -----  \n",
      " 0   Açaí-Guaraná  9979 non-null   int64  \n",
      " 1   Citrus        9979 non-null   int64  \n",
      " 2   Estação       9979 non-null   object \n",
      " 3   LAT           9979 non-null   float64\n",
      " 4   LONG          9979 non-null   float64\n",
      " 5   Maçã-Verde    9979 non-null   int64  \n",
      " 6   Movimentação  9979 non-null   int64  \n",
      " 7   Original_269  9979 non-null   int64  \n",
      " 8   Original_473  9979 non-null   int64  \n",
      " 9   Pêssego       9979 non-null   int64  \n",
      " 10  TARGET        9979 non-null   object \n",
      " 11  Tangerina     9979 non-null   int64  \n",
      " 12  Tempo         9979 non-null   object \n",
      " 13  Zero          9979 non-null   int64  \n",
      " 14  _id           9979 non-null   object \n",
      " 15  _rev          9979 non-null   object \n",
      " 16  row           9979 non-null   int64  \n",
      "dtypes: float64(2), int64(10), object(5)\n",
      "memory usage: 1.3+ MB\n"
     ]
    }
   ],
   "source": [
    "dataset.info()"
   ]
  },
  {
   "cell_type": "code",
   "execution_count": 4,
   "metadata": {},
   "outputs": [
    {
     "data": {
      "text/html": [
       "<div>\n",
       "<style scoped>\n",
       "    .dataframe tbody tr th:only-of-type {\n",
       "        vertical-align: middle;\n",
       "    }\n",
       "\n",
       "    .dataframe tbody tr th {\n",
       "        vertical-align: top;\n",
       "    }\n",
       "\n",
       "    .dataframe thead th {\n",
       "        text-align: right;\n",
       "    }\n",
       "</style>\n",
       "<table border=\"1\" class=\"dataframe\">\n",
       "  <thead>\n",
       "    <tr style=\"text-align: right;\">\n",
       "      <th></th>\n",
       "      <th>Açaí-Guaraná</th>\n",
       "      <th>Citrus</th>\n",
       "      <th>Estação</th>\n",
       "      <th>LAT</th>\n",
       "      <th>LONG</th>\n",
       "      <th>Maçã-Verde</th>\n",
       "      <th>Movimentação</th>\n",
       "      <th>Original_269</th>\n",
       "      <th>Original_473</th>\n",
       "      <th>Pêssego</th>\n",
       "      <th>TARGET</th>\n",
       "      <th>Tangerina</th>\n",
       "      <th>Tempo</th>\n",
       "      <th>Zero</th>\n",
       "      <th>_id</th>\n",
       "      <th>_rev</th>\n",
       "      <th>row</th>\n",
       "    </tr>\n",
       "  </thead>\n",
       "  <tbody>\n",
       "    <tr>\n",
       "      <th>0</th>\n",
       "      <td>26</td>\n",
       "      <td>28</td>\n",
       "      <td>Pinheiros</td>\n",
       "      <td>-23.5664</td>\n",
       "      <td>-46.7030</td>\n",
       "      <td>43</td>\n",
       "      <td>78075</td>\n",
       "      <td>24</td>\n",
       "      <td>36</td>\n",
       "      <td>28</td>\n",
       "      <td>NORMAL</td>\n",
       "      <td>24</td>\n",
       "      <td>2019-6-23</td>\n",
       "      <td>13</td>\n",
       "      <td>0120472f15d821f24f91c6cf6701d88b</td>\n",
       "      <td>1-aa58175da90a12307d3ed70bdc902c2c</td>\n",
       "      <td>9173</td>\n",
       "    </tr>\n",
       "    <tr>\n",
       "      <th>1</th>\n",
       "      <td>41</td>\n",
       "      <td>9</td>\n",
       "      <td>Pinheiros</td>\n",
       "      <td>-23.5664</td>\n",
       "      <td>-46.7030</td>\n",
       "      <td>40</td>\n",
       "      <td>79432</td>\n",
       "      <td>53</td>\n",
       "      <td>78</td>\n",
       "      <td>41</td>\n",
       "      <td>NORMAL</td>\n",
       "      <td>38</td>\n",
       "      <td>2019-3-12</td>\n",
       "      <td>21</td>\n",
       "      <td>0120472f15d821f24f91c6cf670233ef</td>\n",
       "      <td>1-da709a8b94674992afdd9df7976f161d</td>\n",
       "      <td>9072</td>\n",
       "    </tr>\n",
       "    <tr>\n",
       "      <th>2</th>\n",
       "      <td>4</td>\n",
       "      <td>19</td>\n",
       "      <td>Butantã</td>\n",
       "      <td>-23.5844</td>\n",
       "      <td>-46.7252</td>\n",
       "      <td>25</td>\n",
       "      <td>67775</td>\n",
       "      <td>62</td>\n",
       "      <td>21</td>\n",
       "      <td>35</td>\n",
       "      <td>NORMAL</td>\n",
       "      <td>15</td>\n",
       "      <td>2018-4-7</td>\n",
       "      <td>51</td>\n",
       "      <td>0120472f15d821f24f91c6cf6704a6de</td>\n",
       "      <td>1-0ad2377710ecd310f8c810bfb2b04825</td>\n",
       "      <td>9457</td>\n",
       "    </tr>\n",
       "    <tr>\n",
       "      <th>3</th>\n",
       "      <td>19</td>\n",
       "      <td>43</td>\n",
       "      <td>Pinheiros</td>\n",
       "      <td>-23.5664</td>\n",
       "      <td>-46.7030</td>\n",
       "      <td>35</td>\n",
       "      <td>76773</td>\n",
       "      <td>29</td>\n",
       "      <td>61</td>\n",
       "      <td>18</td>\n",
       "      <td>NORMAL</td>\n",
       "      <td>37</td>\n",
       "      <td>2019-9-23</td>\n",
       "      <td>50</td>\n",
       "      <td>0120472f15d821f24f91c6cf67102d3a</td>\n",
       "      <td>1-c6e56500b4ad6860fa2396bd8453a7ba</td>\n",
       "      <td>9263</td>\n",
       "    </tr>\n",
       "    <tr>\n",
       "      <th>4</th>\n",
       "      <td>6</td>\n",
       "      <td>16</td>\n",
       "      <td>Pinheiros</td>\n",
       "      <td>-23.5664</td>\n",
       "      <td>-46.7030</td>\n",
       "      <td>26</td>\n",
       "      <td>77463</td>\n",
       "      <td>8</td>\n",
       "      <td>32</td>\n",
       "      <td>22</td>\n",
       "      <td>REABASTECER</td>\n",
       "      <td>10</td>\n",
       "      <td>2019-11-21</td>\n",
       "      <td>43</td>\n",
       "      <td>0120472f15d821f24f91c6cf6714cf5e</td>\n",
       "      <td>1-8cb748d7d25cb718673ce9ab4f5376f2</td>\n",
       "      <td>9321</td>\n",
       "    </tr>\n",
       "  </tbody>\n",
       "</table>\n",
       "</div>"
      ],
      "text/plain": [
       "   Açaí-Guaraná  Citrus    Estação      LAT     LONG  Maçã-Verde  \\\n",
       "0            26      28  Pinheiros -23.5664 -46.7030          43   \n",
       "1            41       9  Pinheiros -23.5664 -46.7030          40   \n",
       "2             4      19    Butantã -23.5844 -46.7252          25   \n",
       "3            19      43  Pinheiros -23.5664 -46.7030          35   \n",
       "4             6      16  Pinheiros -23.5664 -46.7030          26   \n",
       "\n",
       "   Movimentação  Original_269  Original_473  Pêssego       TARGET  Tangerina  \\\n",
       "0         78075            24            36       28       NORMAL         24   \n",
       "1         79432            53            78       41       NORMAL         38   \n",
       "2         67775            62            21       35       NORMAL         15   \n",
       "3         76773            29            61       18       NORMAL         37   \n",
       "4         77463             8            32       22  REABASTECER         10   \n",
       "\n",
       "        Tempo  Zero                               _id  \\\n",
       "0   2019-6-23    13  0120472f15d821f24f91c6cf6701d88b   \n",
       "1   2019-3-12    21  0120472f15d821f24f91c6cf670233ef   \n",
       "2    2018-4-7    51  0120472f15d821f24f91c6cf6704a6de   \n",
       "3   2019-9-23    50  0120472f15d821f24f91c6cf67102d3a   \n",
       "4  2019-11-21    43  0120472f15d821f24f91c6cf6714cf5e   \n",
       "\n",
       "                                 _rev   row  \n",
       "0  1-aa58175da90a12307d3ed70bdc902c2c  9173  \n",
       "1  1-da709a8b94674992afdd9df7976f161d  9072  \n",
       "2  1-0ad2377710ecd310f8c810bfb2b04825  9457  \n",
       "3  1-c6e56500b4ad6860fa2396bd8453a7ba  9263  \n",
       "4  1-8cb748d7d25cb718673ce9ab4f5376f2  9321  "
      ]
     },
     "execution_count": 4,
     "metadata": {},
     "output_type": "execute_result"
    }
   ],
   "source": [
    "dataset.head()"
   ]
  },
  {
   "cell_type": "code",
   "execution_count": 25,
   "metadata": {},
   "outputs": [],
   "source": [
    "dataset2 = dataset.drop(['LAT', 'LONG', '_id', '_rev', 'row', 'Estação', 'Tempo', 'Movimentação'], axis=1)\n"
   ]
  },
  {
   "cell_type": "code",
   "execution_count": 26,
   "metadata": {},
   "outputs": [
    {
     "data": {
      "text/html": [
       "<div>\n",
       "<style scoped>\n",
       "    .dataframe tbody tr th:only-of-type {\n",
       "        vertical-align: middle;\n",
       "    }\n",
       "\n",
       "    .dataframe tbody tr th {\n",
       "        vertical-align: top;\n",
       "    }\n",
       "\n",
       "    .dataframe thead th {\n",
       "        text-align: right;\n",
       "    }\n",
       "</style>\n",
       "<table border=\"1\" class=\"dataframe\">\n",
       "  <thead>\n",
       "    <tr style=\"text-align: right;\">\n",
       "      <th></th>\n",
       "      <th>Açaí-Guaraná</th>\n",
       "      <th>Citrus</th>\n",
       "      <th>Maçã-Verde</th>\n",
       "      <th>Original_269</th>\n",
       "      <th>Original_473</th>\n",
       "      <th>Pêssego</th>\n",
       "      <th>TARGET</th>\n",
       "      <th>Tangerina</th>\n",
       "      <th>Zero</th>\n",
       "    </tr>\n",
       "  </thead>\n",
       "  <tbody>\n",
       "    <tr>\n",
       "      <th>0</th>\n",
       "      <td>26</td>\n",
       "      <td>28</td>\n",
       "      <td>43</td>\n",
       "      <td>24</td>\n",
       "      <td>36</td>\n",
       "      <td>28</td>\n",
       "      <td>NORMAL</td>\n",
       "      <td>24</td>\n",
       "      <td>13</td>\n",
       "    </tr>\n",
       "    <tr>\n",
       "      <th>1</th>\n",
       "      <td>41</td>\n",
       "      <td>9</td>\n",
       "      <td>40</td>\n",
       "      <td>53</td>\n",
       "      <td>78</td>\n",
       "      <td>41</td>\n",
       "      <td>NORMAL</td>\n",
       "      <td>38</td>\n",
       "      <td>21</td>\n",
       "    </tr>\n",
       "    <tr>\n",
       "      <th>2</th>\n",
       "      <td>4</td>\n",
       "      <td>19</td>\n",
       "      <td>25</td>\n",
       "      <td>62</td>\n",
       "      <td>21</td>\n",
       "      <td>35</td>\n",
       "      <td>NORMAL</td>\n",
       "      <td>15</td>\n",
       "      <td>51</td>\n",
       "    </tr>\n",
       "    <tr>\n",
       "      <th>3</th>\n",
       "      <td>19</td>\n",
       "      <td>43</td>\n",
       "      <td>35</td>\n",
       "      <td>29</td>\n",
       "      <td>61</td>\n",
       "      <td>18</td>\n",
       "      <td>NORMAL</td>\n",
       "      <td>37</td>\n",
       "      <td>50</td>\n",
       "    </tr>\n",
       "    <tr>\n",
       "      <th>4</th>\n",
       "      <td>6</td>\n",
       "      <td>16</td>\n",
       "      <td>26</td>\n",
       "      <td>8</td>\n",
       "      <td>32</td>\n",
       "      <td>22</td>\n",
       "      <td>REABASTECER</td>\n",
       "      <td>10</td>\n",
       "      <td>43</td>\n",
       "    </tr>\n",
       "  </tbody>\n",
       "</table>\n",
       "</div>"
      ],
      "text/plain": [
       "   Açaí-Guaraná  Citrus  Maçã-Verde  Original_269  Original_473  Pêssego  \\\n",
       "0            26      28          43            24            36       28   \n",
       "1            41       9          40            53            78       41   \n",
       "2             4      19          25            62            21       35   \n",
       "3            19      43          35            29            61       18   \n",
       "4             6      16          26             8            32       22   \n",
       "\n",
       "        TARGET  Tangerina  Zero  \n",
       "0       NORMAL         24    13  \n",
       "1       NORMAL         38    21  \n",
       "2       NORMAL         15    51  \n",
       "3       NORMAL         37    50  \n",
       "4  REABASTECER         10    43  "
      ]
     },
     "execution_count": 26,
     "metadata": {},
     "output_type": "execute_result"
    }
   ],
   "source": [
    "dataset2.head()"
   ]
  },
  {
   "cell_type": "markdown",
   "metadata": {},
   "source": [
    "# Separando banco de treino e de teste"
   ]
  },
  {
   "cell_type": "code",
   "execution_count": 27,
   "metadata": {},
   "outputs": [],
   "source": [
    "from sklearn.model_selection import StratifiedShuffleSplit"
   ]
  },
  {
   "cell_type": "code",
   "execution_count": 28,
   "metadata": {},
   "outputs": [],
   "source": [
    "split = StratifiedShuffleSplit(n_splits=1, test_size=0.2, random_state=42)"
   ]
  },
  {
   "cell_type": "code",
   "execution_count": 29,
   "metadata": {},
   "outputs": [],
   "source": [
    "for train_index, test_index in split.split(dataset2, dataset2.TARGET):\n",
    "    data_train = dataset2.loc[train_index]    \n",
    "    data_val = dataset2.loc[test_index]"
   ]
  },
  {
   "cell_type": "code",
   "execution_count": 30,
   "metadata": {},
   "outputs": [
    {
     "name": "stdout",
     "output_type": "stream",
     "text": [
      "(7983, 9)\n",
      "(1996, 9)\n"
     ]
    }
   ],
   "source": [
    "\n",
    "print(data_train.shape)\n",
    "print(data_val.shape)"
   ]
  },
  {
   "cell_type": "markdown",
   "metadata": {},
   "source": [
    "## Seperando as features e target"
   ]
  },
  {
   "cell_type": "code",
   "execution_count": 31,
   "metadata": {},
   "outputs": [],
   "source": [
    "x_train = data_train.drop(['TARGET'], axis=1)\n",
    "y_train = data_train.TARGET"
   ]
  },
  {
   "cell_type": "code",
   "execution_count": 35,
   "metadata": {},
   "outputs": [],
   "source": [
    "x_val = data_val.drop(['TARGET'], axis=1)\n",
    "y_val = data_val.TARGET"
   ]
  },
  {
   "cell_type": "markdown",
   "metadata": {},
   "source": [
    "# Treinamento "
   ]
  },
  {
   "cell_type": "code",
   "execution_count": 37,
   "metadata": {},
   "outputs": [],
   "source": [
    "from lightgbm import LGBMClassifier\n",
    "from catboost import CatBoostClassifier\n",
    "from sklearn.ensemble import RandomForestClassifier\n",
    "from xgboost import XGBClassifier\n",
    "from sklearn.metrics import classification_report\n",
    "from sklearn.metrics import accuracy_score\n",
    "from sklearn.ensemble import AdaBoostClassifier"
   ]
  },
  {
   "cell_type": "code",
   "execution_count": 50,
   "metadata": {},
   "outputs": [],
   "source": [
    "clf = RandomForestClassifier(max_depth=10)"
   ]
  },
  {
   "cell_type": "code",
   "execution_count": 51,
   "metadata": {},
   "outputs": [],
   "source": [
    "clf.fit(x_train, y_train)\n",
    "\n",
    "pred_train = clf.predict(x_train)"
   ]
  },
  {
   "cell_type": "code",
   "execution_count": 52,
   "metadata": {},
   "outputs": [
    {
     "name": "stdout",
     "output_type": "stream",
     "text": [
      "              precision    recall  f1-score   support\n",
      "\n",
      "      NORMAL       0.97      0.99      0.98      5279\n",
      " REABASTECER       0.98      0.93      0.96      2704\n",
      "\n",
      "    accuracy                           0.97      7983\n",
      "   macro avg       0.98      0.96      0.97      7983\n",
      "weighted avg       0.97      0.97      0.97      7983\n",
      "\n"
     ]
    }
   ],
   "source": [
    "print(classification_report(pred_train, y_train))"
   ]
  },
  {
   "cell_type": "markdown",
   "metadata": {},
   "source": [
    "# Validação"
   ]
  },
  {
   "cell_type": "code",
   "execution_count": 53,
   "metadata": {},
   "outputs": [],
   "source": [
    "pred_val = clf.predict(x_val)"
   ]
  },
  {
   "cell_type": "code",
   "execution_count": 54,
   "metadata": {},
   "outputs": [
    {
     "name": "stdout",
     "output_type": "stream",
     "text": [
      "              precision    recall  f1-score   support\n",
      "\n",
      "      NORMAL       0.92      0.85      0.88      1356\n",
      " REABASTECER       0.72      0.84      0.78       640\n",
      "\n",
      "    accuracy                           0.85      1996\n",
      "   macro avg       0.82      0.84      0.83      1996\n",
      "weighted avg       0.86      0.85      0.85      1996\n",
      "\n"
     ]
    }
   ],
   "source": [
    "print(classification_report(y_val, pred_val))"
   ]
  },
  {
   "cell_type": "code",
   "execution_count": 55,
   "metadata": {},
   "outputs": [
    {
     "name": "stdout",
     "output_type": "stream",
     "text": [
      "0.845691382765531\n"
     ]
    }
   ],
   "source": [
    "print(accuracy_score(y_val, pred_val))"
   ]
  },
  {
   "cell_type": "code",
   "execution_count": null,
   "metadata": {},
   "outputs": [],
   "source": []
  }
 ],
 "metadata": {
  "kernelspec": {
   "display_name": "Python 3",
   "language": "python",
   "name": "python3"
  },
  "language_info": {
   "codemirror_mode": {
    "name": "ipython",
    "version": 3
   },
   "file_extension": ".py",
   "mimetype": "text/x-python",
   "name": "python",
   "nbconvert_exporter": "python",
   "pygments_lexer": "ipython3",
   "version": "3.7.7"
  }
 },
 "nbformat": 4,
 "nbformat_minor": 4
}
