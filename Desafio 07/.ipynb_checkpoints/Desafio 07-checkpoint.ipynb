{
 "cells": [
  {
   "cell_type": "markdown",
   "metadata": {},
   "source": [
    "# Desafio 07\n",
    "\n",
    "TNT"
   ]
  },
  {
   "cell_type": "code",
   "execution_count": 9,
   "metadata": {},
   "outputs": [],
   "source": [
    "import pandas as pd\n",
    "import numpy as np"
   ]
  },
  {
   "cell_type": "markdown",
   "metadata": {},
   "source": [
    "# Carregando banco"
   ]
  },
  {
   "cell_type": "code",
   "execution_count": 10,
   "metadata": {},
   "outputs": [],
   "source": [
    "dataset_original = pd.read_csv('tnt_database.csv')"
   ]
  },
  {
   "cell_type": "code",
   "execution_count": 11,
   "metadata": {},
   "outputs": [
    {
     "name": "stdout",
     "output_type": "stream",
     "text": [
      "<class 'pandas.core.frame.DataFrame'>\n",
      "RangeIndex: 9979 entries, 0 to 9978\n",
      "Data columns (total 17 columns):\n",
      " #   Column        Non-Null Count  Dtype  \n",
      "---  ------        --------------  -----  \n",
      " 0   Açaí-Guaraná  9979 non-null   int64  \n",
      " 1   Citrus        9979 non-null   int64  \n",
      " 2   Estação       9979 non-null   object \n",
      " 3   LAT           9979 non-null   float64\n",
      " 4   LONG          9979 non-null   float64\n",
      " 5   Maçã-Verde    9979 non-null   int64  \n",
      " 6   Movimentação  9979 non-null   int64  \n",
      " 7   Original_269  9979 non-null   int64  \n",
      " 8   Original_473  9979 non-null   int64  \n",
      " 9   Pêssego       9979 non-null   int64  \n",
      " 10  TARGET        9979 non-null   object \n",
      " 11  Tangerina     9979 non-null   int64  \n",
      " 12  Tempo         9979 non-null   object \n",
      " 13  Zero          9979 non-null   int64  \n",
      " 14  _id           9979 non-null   object \n",
      " 15  _rev          9979 non-null   object \n",
      " 16  row           9979 non-null   int64  \n",
      "dtypes: float64(2), int64(10), object(5)\n",
      "memory usage: 1.3+ MB\n"
     ]
    }
   ],
   "source": [
    "dataset_original.info()"
   ]
  },
  {
   "cell_type": "code",
   "execution_count": 12,
   "metadata": {},
   "outputs": [
    {
     "data": {
      "text/html": [
       "<div>\n",
       "<style scoped>\n",
       "    .dataframe tbody tr th:only-of-type {\n",
       "        vertical-align: middle;\n",
       "    }\n",
       "\n",
       "    .dataframe tbody tr th {\n",
       "        vertical-align: top;\n",
       "    }\n",
       "\n",
       "    .dataframe thead th {\n",
       "        text-align: right;\n",
       "    }\n",
       "</style>\n",
       "<table border=\"1\" class=\"dataframe\">\n",
       "  <thead>\n",
       "    <tr style=\"text-align: right;\">\n",
       "      <th></th>\n",
       "      <th>Açaí-Guaraná</th>\n",
       "      <th>Citrus</th>\n",
       "      <th>Estação</th>\n",
       "      <th>LAT</th>\n",
       "      <th>LONG</th>\n",
       "      <th>Maçã-Verde</th>\n",
       "      <th>Movimentação</th>\n",
       "      <th>Original_269</th>\n",
       "      <th>Original_473</th>\n",
       "      <th>Pêssego</th>\n",
       "      <th>TARGET</th>\n",
       "      <th>Tangerina</th>\n",
       "      <th>Tempo</th>\n",
       "      <th>Zero</th>\n",
       "      <th>_id</th>\n",
       "      <th>_rev</th>\n",
       "      <th>row</th>\n",
       "    </tr>\n",
       "  </thead>\n",
       "  <tbody>\n",
       "    <tr>\n",
       "      <th>0</th>\n",
       "      <td>26</td>\n",
       "      <td>28</td>\n",
       "      <td>Pinheiros</td>\n",
       "      <td>-23.5664</td>\n",
       "      <td>-46.7030</td>\n",
       "      <td>43</td>\n",
       "      <td>78075</td>\n",
       "      <td>24</td>\n",
       "      <td>36</td>\n",
       "      <td>28</td>\n",
       "      <td>NORMAL</td>\n",
       "      <td>24</td>\n",
       "      <td>2019-6-23</td>\n",
       "      <td>13</td>\n",
       "      <td>0120472f15d821f24f91c6cf6701d88b</td>\n",
       "      <td>1-aa58175da90a12307d3ed70bdc902c2c</td>\n",
       "      <td>9173</td>\n",
       "    </tr>\n",
       "    <tr>\n",
       "      <th>1</th>\n",
       "      <td>41</td>\n",
       "      <td>9</td>\n",
       "      <td>Pinheiros</td>\n",
       "      <td>-23.5664</td>\n",
       "      <td>-46.7030</td>\n",
       "      <td>40</td>\n",
       "      <td>79432</td>\n",
       "      <td>53</td>\n",
       "      <td>78</td>\n",
       "      <td>41</td>\n",
       "      <td>NORMAL</td>\n",
       "      <td>38</td>\n",
       "      <td>2019-3-12</td>\n",
       "      <td>21</td>\n",
       "      <td>0120472f15d821f24f91c6cf670233ef</td>\n",
       "      <td>1-da709a8b94674992afdd9df7976f161d</td>\n",
       "      <td>9072</td>\n",
       "    </tr>\n",
       "    <tr>\n",
       "      <th>2</th>\n",
       "      <td>4</td>\n",
       "      <td>19</td>\n",
       "      <td>Butantã</td>\n",
       "      <td>-23.5844</td>\n",
       "      <td>-46.7252</td>\n",
       "      <td>25</td>\n",
       "      <td>67775</td>\n",
       "      <td>62</td>\n",
       "      <td>21</td>\n",
       "      <td>35</td>\n",
       "      <td>NORMAL</td>\n",
       "      <td>15</td>\n",
       "      <td>2018-4-7</td>\n",
       "      <td>51</td>\n",
       "      <td>0120472f15d821f24f91c6cf6704a6de</td>\n",
       "      <td>1-0ad2377710ecd310f8c810bfb2b04825</td>\n",
       "      <td>9457</td>\n",
       "    </tr>\n",
       "    <tr>\n",
       "      <th>3</th>\n",
       "      <td>19</td>\n",
       "      <td>43</td>\n",
       "      <td>Pinheiros</td>\n",
       "      <td>-23.5664</td>\n",
       "      <td>-46.7030</td>\n",
       "      <td>35</td>\n",
       "      <td>76773</td>\n",
       "      <td>29</td>\n",
       "      <td>61</td>\n",
       "      <td>18</td>\n",
       "      <td>NORMAL</td>\n",
       "      <td>37</td>\n",
       "      <td>2019-9-23</td>\n",
       "      <td>50</td>\n",
       "      <td>0120472f15d821f24f91c6cf67102d3a</td>\n",
       "      <td>1-c6e56500b4ad6860fa2396bd8453a7ba</td>\n",
       "      <td>9263</td>\n",
       "    </tr>\n",
       "    <tr>\n",
       "      <th>4</th>\n",
       "      <td>6</td>\n",
       "      <td>16</td>\n",
       "      <td>Pinheiros</td>\n",
       "      <td>-23.5664</td>\n",
       "      <td>-46.7030</td>\n",
       "      <td>26</td>\n",
       "      <td>77463</td>\n",
       "      <td>8</td>\n",
       "      <td>32</td>\n",
       "      <td>22</td>\n",
       "      <td>REABASTECER</td>\n",
       "      <td>10</td>\n",
       "      <td>2019-11-21</td>\n",
       "      <td>43</td>\n",
       "      <td>0120472f15d821f24f91c6cf6714cf5e</td>\n",
       "      <td>1-8cb748d7d25cb718673ce9ab4f5376f2</td>\n",
       "      <td>9321</td>\n",
       "    </tr>\n",
       "  </tbody>\n",
       "</table>\n",
       "</div>"
      ],
      "text/plain": [
       "   Açaí-Guaraná  Citrus    Estação      LAT     LONG  Maçã-Verde  \\\n",
       "0            26      28  Pinheiros -23.5664 -46.7030          43   \n",
       "1            41       9  Pinheiros -23.5664 -46.7030          40   \n",
       "2             4      19    Butantã -23.5844 -46.7252          25   \n",
       "3            19      43  Pinheiros -23.5664 -46.7030          35   \n",
       "4             6      16  Pinheiros -23.5664 -46.7030          26   \n",
       "\n",
       "   Movimentação  Original_269  Original_473  Pêssego       TARGET  Tangerina  \\\n",
       "0         78075            24            36       28       NORMAL         24   \n",
       "1         79432            53            78       41       NORMAL         38   \n",
       "2         67775            62            21       35       NORMAL         15   \n",
       "3         76773            29            61       18       NORMAL         37   \n",
       "4         77463             8            32       22  REABASTECER         10   \n",
       "\n",
       "        Tempo  Zero                               _id  \\\n",
       "0   2019-6-23    13  0120472f15d821f24f91c6cf6701d88b   \n",
       "1   2019-3-12    21  0120472f15d821f24f91c6cf670233ef   \n",
       "2    2018-4-7    51  0120472f15d821f24f91c6cf6704a6de   \n",
       "3   2019-9-23    50  0120472f15d821f24f91c6cf67102d3a   \n",
       "4  2019-11-21    43  0120472f15d821f24f91c6cf6714cf5e   \n",
       "\n",
       "                                 _rev   row  \n",
       "0  1-aa58175da90a12307d3ed70bdc902c2c  9173  \n",
       "1  1-da709a8b94674992afdd9df7976f161d  9072  \n",
       "2  1-0ad2377710ecd310f8c810bfb2b04825  9457  \n",
       "3  1-c6e56500b4ad6860fa2396bd8453a7ba  9263  \n",
       "4  1-8cb748d7d25cb718673ce9ab4f5376f2  9321  "
      ]
     },
     "execution_count": 12,
     "metadata": {},
     "output_type": "execute_result"
    }
   ],
   "source": [
    "dataset_original.head()"
   ]
  },
  {
   "cell_type": "code",
   "execution_count": null,
   "metadata": {},
   "outputs": [],
   "source": [
    "dataset = datadataset_original.drop_duplicates()\n",
    "dataset.shape"
   ]
  },
  {
   "cell_type": "code",
   "execution_count": null,
   "metadata": {},
   "outputs": [],
   "source": [
    "dataset.to_csv('dataset_unique_rows.csv', index=False)"
   ]
  },
  {
   "cell_type": "code",
   "execution_count": 13,
   "metadata": {},
   "outputs": [],
   "source": [
    "dataset2 = dataset.drop(['LAT', 'LONG', '_id', '_rev', 'row', 'Estação', 'Tempo', 'Movimentação'], axis=1)\n"
   ]
  },
  {
   "cell_type": "code",
   "execution_count": 14,
   "metadata": {},
   "outputs": [
    {
     "data": {
      "text/html": [
       "<div>\n",
       "<style scoped>\n",
       "    .dataframe tbody tr th:only-of-type {\n",
       "        vertical-align: middle;\n",
       "    }\n",
       "\n",
       "    .dataframe tbody tr th {\n",
       "        vertical-align: top;\n",
       "    }\n",
       "\n",
       "    .dataframe thead th {\n",
       "        text-align: right;\n",
       "    }\n",
       "</style>\n",
       "<table border=\"1\" class=\"dataframe\">\n",
       "  <thead>\n",
       "    <tr style=\"text-align: right;\">\n",
       "      <th></th>\n",
       "      <th>Açaí-Guaraná</th>\n",
       "      <th>Citrus</th>\n",
       "      <th>Maçã-Verde</th>\n",
       "      <th>Original_269</th>\n",
       "      <th>Original_473</th>\n",
       "      <th>Pêssego</th>\n",
       "      <th>TARGET</th>\n",
       "      <th>Tangerina</th>\n",
       "      <th>Zero</th>\n",
       "    </tr>\n",
       "  </thead>\n",
       "  <tbody>\n",
       "    <tr>\n",
       "      <th>0</th>\n",
       "      <td>26</td>\n",
       "      <td>28</td>\n",
       "      <td>43</td>\n",
       "      <td>24</td>\n",
       "      <td>36</td>\n",
       "      <td>28</td>\n",
       "      <td>NORMAL</td>\n",
       "      <td>24</td>\n",
       "      <td>13</td>\n",
       "    </tr>\n",
       "    <tr>\n",
       "      <th>1</th>\n",
       "      <td>41</td>\n",
       "      <td>9</td>\n",
       "      <td>40</td>\n",
       "      <td>53</td>\n",
       "      <td>78</td>\n",
       "      <td>41</td>\n",
       "      <td>NORMAL</td>\n",
       "      <td>38</td>\n",
       "      <td>21</td>\n",
       "    </tr>\n",
       "    <tr>\n",
       "      <th>2</th>\n",
       "      <td>4</td>\n",
       "      <td>19</td>\n",
       "      <td>25</td>\n",
       "      <td>62</td>\n",
       "      <td>21</td>\n",
       "      <td>35</td>\n",
       "      <td>NORMAL</td>\n",
       "      <td>15</td>\n",
       "      <td>51</td>\n",
       "    </tr>\n",
       "    <tr>\n",
       "      <th>3</th>\n",
       "      <td>19</td>\n",
       "      <td>43</td>\n",
       "      <td>35</td>\n",
       "      <td>29</td>\n",
       "      <td>61</td>\n",
       "      <td>18</td>\n",
       "      <td>NORMAL</td>\n",
       "      <td>37</td>\n",
       "      <td>50</td>\n",
       "    </tr>\n",
       "    <tr>\n",
       "      <th>4</th>\n",
       "      <td>6</td>\n",
       "      <td>16</td>\n",
       "      <td>26</td>\n",
       "      <td>8</td>\n",
       "      <td>32</td>\n",
       "      <td>22</td>\n",
       "      <td>REABASTECER</td>\n",
       "      <td>10</td>\n",
       "      <td>43</td>\n",
       "    </tr>\n",
       "  </tbody>\n",
       "</table>\n",
       "</div>"
      ],
      "text/plain": [
       "   Açaí-Guaraná  Citrus  Maçã-Verde  Original_269  Original_473  Pêssego  \\\n",
       "0            26      28          43            24            36       28   \n",
       "1            41       9          40            53            78       41   \n",
       "2             4      19          25            62            21       35   \n",
       "3            19      43          35            29            61       18   \n",
       "4             6      16          26             8            32       22   \n",
       "\n",
       "        TARGET  Tangerina  Zero  \n",
       "0       NORMAL         24    13  \n",
       "1       NORMAL         38    21  \n",
       "2       NORMAL         15    51  \n",
       "3       NORMAL         37    50  \n",
       "4  REABASTECER         10    43  "
      ]
     },
     "execution_count": 14,
     "metadata": {},
     "output_type": "execute_result"
    }
   ],
   "source": [
    "dataset2.head()"
   ]
  },
  {
   "cell_type": "markdown",
   "metadata": {},
   "source": [
    "# Criando features\n"
   ]
  },
  {
   "cell_type": "code",
   "execution_count": 15,
   "metadata": {},
   "outputs": [],
   "source": [
    "dataset2['sum'] = dataset2['Açaí-Guaraná'] + dataset2['Citrus'] + dataset2['Maçã-Verde'] + dataset2['Original_269'] + dataset2['Original_473'] + dataset2['Pêssego'] + dataset2['Tangerina'] + dataset2['Zero']\n",
    "dataset2['mean'] = dataset2[['Açaí-Guaraná', 'Citrus', 'Maçã-Verde', 'Original_269','Original_473','Pêssego','Tangerina','Zero']].mean(axis=1)\n",
    "dataset2['median'] = dataset2[['Açaí-Guaraná', 'Citrus', 'Maçã-Verde', 'Original_269','Original_473','Pêssego','Tangerina','Zero']].median(axis=1)\n",
    "dataset2['median'] = dataset2[['Açaí-Guaraná', 'Citrus', 'Maçã-Verde', 'Original_269','Original_473','Pêssego','Tangerina','Zero']].min(axis=1)\n",
    "\n"
   ]
  },
  {
   "cell_type": "code",
   "execution_count": 16,
   "metadata": {},
   "outputs": [
    {
     "data": {
      "text/html": [
       "<div>\n",
       "<style scoped>\n",
       "    .dataframe tbody tr th:only-of-type {\n",
       "        vertical-align: middle;\n",
       "    }\n",
       "\n",
       "    .dataframe tbody tr th {\n",
       "        vertical-align: top;\n",
       "    }\n",
       "\n",
       "    .dataframe thead th {\n",
       "        text-align: right;\n",
       "    }\n",
       "</style>\n",
       "<table border=\"1\" class=\"dataframe\">\n",
       "  <thead>\n",
       "    <tr style=\"text-align: right;\">\n",
       "      <th></th>\n",
       "      <th>Açaí-Guaraná</th>\n",
       "      <th>Citrus</th>\n",
       "      <th>Maçã-Verde</th>\n",
       "      <th>Original_269</th>\n",
       "      <th>Original_473</th>\n",
       "      <th>Pêssego</th>\n",
       "      <th>TARGET</th>\n",
       "      <th>Tangerina</th>\n",
       "      <th>Zero</th>\n",
       "      <th>sum</th>\n",
       "      <th>mean</th>\n",
       "      <th>median</th>\n",
       "    </tr>\n",
       "  </thead>\n",
       "  <tbody>\n",
       "    <tr>\n",
       "      <th>0</th>\n",
       "      <td>26</td>\n",
       "      <td>28</td>\n",
       "      <td>43</td>\n",
       "      <td>24</td>\n",
       "      <td>36</td>\n",
       "      <td>28</td>\n",
       "      <td>NORMAL</td>\n",
       "      <td>24</td>\n",
       "      <td>13</td>\n",
       "      <td>222</td>\n",
       "      <td>27.750</td>\n",
       "      <td>13</td>\n",
       "    </tr>\n",
       "    <tr>\n",
       "      <th>1</th>\n",
       "      <td>41</td>\n",
       "      <td>9</td>\n",
       "      <td>40</td>\n",
       "      <td>53</td>\n",
       "      <td>78</td>\n",
       "      <td>41</td>\n",
       "      <td>NORMAL</td>\n",
       "      <td>38</td>\n",
       "      <td>21</td>\n",
       "      <td>321</td>\n",
       "      <td>40.125</td>\n",
       "      <td>9</td>\n",
       "    </tr>\n",
       "    <tr>\n",
       "      <th>2</th>\n",
       "      <td>4</td>\n",
       "      <td>19</td>\n",
       "      <td>25</td>\n",
       "      <td>62</td>\n",
       "      <td>21</td>\n",
       "      <td>35</td>\n",
       "      <td>NORMAL</td>\n",
       "      <td>15</td>\n",
       "      <td>51</td>\n",
       "      <td>232</td>\n",
       "      <td>29.000</td>\n",
       "      <td>4</td>\n",
       "    </tr>\n",
       "    <tr>\n",
       "      <th>3</th>\n",
       "      <td>19</td>\n",
       "      <td>43</td>\n",
       "      <td>35</td>\n",
       "      <td>29</td>\n",
       "      <td>61</td>\n",
       "      <td>18</td>\n",
       "      <td>NORMAL</td>\n",
       "      <td>37</td>\n",
       "      <td>50</td>\n",
       "      <td>292</td>\n",
       "      <td>36.500</td>\n",
       "      <td>18</td>\n",
       "    </tr>\n",
       "    <tr>\n",
       "      <th>4</th>\n",
       "      <td>6</td>\n",
       "      <td>16</td>\n",
       "      <td>26</td>\n",
       "      <td>8</td>\n",
       "      <td>32</td>\n",
       "      <td>22</td>\n",
       "      <td>REABASTECER</td>\n",
       "      <td>10</td>\n",
       "      <td>43</td>\n",
       "      <td>163</td>\n",
       "      <td>20.375</td>\n",
       "      <td>6</td>\n",
       "    </tr>\n",
       "  </tbody>\n",
       "</table>\n",
       "</div>"
      ],
      "text/plain": [
       "   Açaí-Guaraná  Citrus  Maçã-Verde  Original_269  Original_473  Pêssego  \\\n",
       "0            26      28          43            24            36       28   \n",
       "1            41       9          40            53            78       41   \n",
       "2             4      19          25            62            21       35   \n",
       "3            19      43          35            29            61       18   \n",
       "4             6      16          26             8            32       22   \n",
       "\n",
       "        TARGET  Tangerina  Zero  sum    mean  median  \n",
       "0       NORMAL         24    13  222  27.750      13  \n",
       "1       NORMAL         38    21  321  40.125       9  \n",
       "2       NORMAL         15    51  232  29.000       4  \n",
       "3       NORMAL         37    50  292  36.500      18  \n",
       "4  REABASTECER         10    43  163  20.375       6  "
      ]
     },
     "execution_count": 16,
     "metadata": {},
     "output_type": "execute_result"
    }
   ],
   "source": [
    "dataset2.head()"
   ]
  },
  {
   "cell_type": "markdown",
   "metadata": {},
   "source": [
    "# Separando banco de treino e de teste"
   ]
  },
  {
   "cell_type": "code",
   "execution_count": 17,
   "metadata": {},
   "outputs": [],
   "source": [
    "from sklearn.model_selection import StratifiedShuffleSplit"
   ]
  },
  {
   "cell_type": "code",
   "execution_count": 18,
   "metadata": {},
   "outputs": [],
   "source": [
    "split = StratifiedShuffleSplit(n_splits=1, test_size=0.2, random_state=42)"
   ]
  },
  {
   "cell_type": "code",
   "execution_count": 19,
   "metadata": {},
   "outputs": [],
   "source": [
    "for train_index, test_index in split.split(dataset2, dataset2.TARGET):\n",
    "    data_train = dataset2.loc[train_index]    \n",
    "    data_val = dataset2.loc[test_index]"
   ]
  },
  {
   "cell_type": "code",
   "execution_count": 20,
   "metadata": {},
   "outputs": [
    {
     "name": "stdout",
     "output_type": "stream",
     "text": [
      "(7983, 12)\n",
      "(1996, 12)\n"
     ]
    }
   ],
   "source": [
    "\n",
    "print(data_train.shape)\n",
    "print(data_val.shape)"
   ]
  },
  {
   "cell_type": "markdown",
   "metadata": {},
   "source": [
    "## Seperando as features e target"
   ]
  },
  {
   "cell_type": "code",
   "execution_count": 21,
   "metadata": {},
   "outputs": [],
   "source": [
    "x_train = data_train.drop(['TARGET'], axis=1)\n",
    "y_train = data_train.TARGET"
   ]
  },
  {
   "cell_type": "code",
   "execution_count": 22,
   "metadata": {},
   "outputs": [],
   "source": [
    "x_val = data_val.drop(['TARGET'], axis=1)\n",
    "y_val = data_val.TARGET"
   ]
  },
  {
   "cell_type": "code",
   "execution_count": 23,
   "metadata": {},
   "outputs": [
    {
     "data": {
      "text/html": [
       "<div>\n",
       "<style scoped>\n",
       "    .dataframe tbody tr th:only-of-type {\n",
       "        vertical-align: middle;\n",
       "    }\n",
       "\n",
       "    .dataframe tbody tr th {\n",
       "        vertical-align: top;\n",
       "    }\n",
       "\n",
       "    .dataframe thead th {\n",
       "        text-align: right;\n",
       "    }\n",
       "</style>\n",
       "<table border=\"1\" class=\"dataframe\">\n",
       "  <thead>\n",
       "    <tr style=\"text-align: right;\">\n",
       "      <th></th>\n",
       "      <th>Açaí-Guaraná</th>\n",
       "      <th>Citrus</th>\n",
       "      <th>Maçã-Verde</th>\n",
       "      <th>Original_269</th>\n",
       "      <th>Original_473</th>\n",
       "      <th>Pêssego</th>\n",
       "      <th>Tangerina</th>\n",
       "      <th>Zero</th>\n",
       "      <th>sum</th>\n",
       "      <th>mean</th>\n",
       "      <th>median</th>\n",
       "    </tr>\n",
       "  </thead>\n",
       "  <tbody>\n",
       "    <tr>\n",
       "      <th>7415</th>\n",
       "      <td>33</td>\n",
       "      <td>28</td>\n",
       "      <td>32</td>\n",
       "      <td>3</td>\n",
       "      <td>17</td>\n",
       "      <td>43</td>\n",
       "      <td>17</td>\n",
       "      <td>49</td>\n",
       "      <td>222</td>\n",
       "      <td>27.750</td>\n",
       "      <td>3</td>\n",
       "    </tr>\n",
       "    <tr>\n",
       "      <th>2547</th>\n",
       "      <td>6</td>\n",
       "      <td>40</td>\n",
       "      <td>43</td>\n",
       "      <td>17</td>\n",
       "      <td>13</td>\n",
       "      <td>37</td>\n",
       "      <td>16</td>\n",
       "      <td>38</td>\n",
       "      <td>210</td>\n",
       "      <td>26.250</td>\n",
       "      <td>6</td>\n",
       "    </tr>\n",
       "    <tr>\n",
       "      <th>3255</th>\n",
       "      <td>26</td>\n",
       "      <td>13</td>\n",
       "      <td>6</td>\n",
       "      <td>31</td>\n",
       "      <td>63</td>\n",
       "      <td>39</td>\n",
       "      <td>41</td>\n",
       "      <td>21</td>\n",
       "      <td>240</td>\n",
       "      <td>30.000</td>\n",
       "      <td>6</td>\n",
       "    </tr>\n",
       "    <tr>\n",
       "      <th>9320</th>\n",
       "      <td>43</td>\n",
       "      <td>7</td>\n",
       "      <td>10</td>\n",
       "      <td>25</td>\n",
       "      <td>58</td>\n",
       "      <td>15</td>\n",
       "      <td>34</td>\n",
       "      <td>65</td>\n",
       "      <td>257</td>\n",
       "      <td>32.125</td>\n",
       "      <td>7</td>\n",
       "    </tr>\n",
       "    <tr>\n",
       "      <th>4149</th>\n",
       "      <td>10</td>\n",
       "      <td>19</td>\n",
       "      <td>21</td>\n",
       "      <td>25</td>\n",
       "      <td>4</td>\n",
       "      <td>21</td>\n",
       "      <td>15</td>\n",
       "      <td>51</td>\n",
       "      <td>166</td>\n",
       "      <td>20.750</td>\n",
       "      <td>4</td>\n",
       "    </tr>\n",
       "  </tbody>\n",
       "</table>\n",
       "</div>"
      ],
      "text/plain": [
       "      Açaí-Guaraná  Citrus  Maçã-Verde  Original_269  Original_473  Pêssego  \\\n",
       "7415            33      28          32             3            17       43   \n",
       "2547             6      40          43            17            13       37   \n",
       "3255            26      13           6            31            63       39   \n",
       "9320            43       7          10            25            58       15   \n",
       "4149            10      19          21            25             4       21   \n",
       "\n",
       "      Tangerina  Zero  sum    mean  median  \n",
       "7415         17    49  222  27.750       3  \n",
       "2547         16    38  210  26.250       6  \n",
       "3255         41    21  240  30.000       6  \n",
       "9320         34    65  257  32.125       7  \n",
       "4149         15    51  166  20.750       4  "
      ]
     },
     "execution_count": 23,
     "metadata": {},
     "output_type": "execute_result"
    }
   ],
   "source": [
    "x_train.head()"
   ]
  },
  {
   "cell_type": "code",
   "execution_count": 41,
   "metadata": {},
   "outputs": [
    {
     "data": {
      "text/plain": [
       "Açaí-Guaraná      int64\n",
       "Citrus            int64\n",
       "Maçã-Verde        int64\n",
       "Original_269      int64\n",
       "Original_473      int64\n",
       "Pêssego           int64\n",
       "Tangerina         int64\n",
       "Zero              int64\n",
       "sum               int64\n",
       "mean            float64\n",
       "median            int64\n",
       "dtype: object"
      ]
     },
     "execution_count": 41,
     "metadata": {},
     "output_type": "execute_result"
    }
   ],
   "source": [
    "x_train.dtypes"
   ]
  },
  {
   "cell_type": "markdown",
   "metadata": {},
   "source": [
    "## Preprocessing features"
   ]
  },
  {
   "cell_type": "code",
   "execution_count": 42,
   "metadata": {},
   "outputs": [],
   "source": [
    "from sklearn.preprocessing import StandardScaler"
   ]
  },
  {
   "cell_type": "code",
   "execution_count": 59,
   "metadata": {},
   "outputs": [],
   "source": [
    "scaler = StandardScaler()"
   ]
  },
  {
   "cell_type": "code",
   "execution_count": 60,
   "metadata": {},
   "outputs": [],
   "source": [
    "x_train_preprocessed = scaler.fit_transform(x_train)"
   ]
  },
  {
   "cell_type": "code",
   "execution_count": 61,
   "metadata": {},
   "outputs": [],
   "source": [
    "x_val_preprocessed = scaler.transform(x_val)"
   ]
  },
  {
   "cell_type": "markdown",
   "metadata": {},
   "source": [
    "# Treinamento "
   ]
  },
  {
   "cell_type": "code",
   "execution_count": 52,
   "metadata": {},
   "outputs": [],
   "source": [
    "from lightgbm import LGBMClassifier\n",
    "from catboost import CatBoostClassifier\n",
    "from sklearn.ensemble import RandomForestClassifier\n",
    "from xgboost import XGBClassifier\n",
    "from sklearn.metrics import classification_report\n",
    "from sklearn.metrics import accuracy_score\n",
    "from sklearn.ensemble import AdaBoostClassifier\n",
    "from sklearn.svm import SVC"
   ]
  },
  {
   "cell_type": "code",
   "execution_count": 74,
   "metadata": {},
   "outputs": [],
   "source": [
    "clf = RandomForestClassifier(max_depth=10)"
   ]
  },
  {
   "cell_type": "code",
   "execution_count": 75,
   "metadata": {},
   "outputs": [],
   "source": [
    "clf.fit(x_train, y_train)\n",
    "\n",
    "pred_train = clf.predict(x_train)"
   ]
  },
  {
   "cell_type": "code",
   "execution_count": 76,
   "metadata": {},
   "outputs": [
    {
     "name": "stdout",
     "output_type": "stream",
     "text": [
      "              precision    recall  f1-score   support\n",
      "\n",
      "      NORMAL       0.83      0.86      0.84      5208\n",
      " REABASTECER       0.72      0.66      0.69      2775\n",
      "\n",
      "    accuracy                           0.79      7983\n",
      "   macro avg       0.77      0.76      0.77      7983\n",
      "weighted avg       0.79      0.79      0.79      7983\n",
      "\n"
     ]
    }
   ],
   "source": [
    "print(classification_report(pred_train, y_train))"
   ]
  },
  {
   "cell_type": "markdown",
   "metadata": {},
   "source": [
    "# Validação"
   ]
  },
  {
   "cell_type": "code",
   "execution_count": 81,
   "metadata": {},
   "outputs": [],
   "source": [
    "pred_val = clf.predict(x_val)"
   ]
  },
  {
   "cell_type": "code",
   "execution_count": 78,
   "metadata": {},
   "outputs": [
    {
     "name": "stdout",
     "output_type": "stream",
     "text": [
      "              precision    recall  f1-score   support\n",
      "\n",
      "      NORMAL       0.83      0.80      0.82      1356\n",
      " REABASTECER       0.61      0.66      0.63       640\n",
      "\n",
      "    accuracy                           0.76      1996\n",
      "   macro avg       0.72      0.73      0.73      1996\n",
      "weighted avg       0.76      0.76      0.76      1996\n",
      "\n"
     ]
    }
   ],
   "source": [
    "print(classification_report(y_val, pred_val))"
   ]
  },
  {
   "cell_type": "code",
   "execution_count": 79,
   "metadata": {},
   "outputs": [
    {
     "name": "stdout",
     "output_type": "stream",
     "text": [
      "0.7570140280561122\n"
     ]
    }
   ],
   "source": [
    "print(accuracy_score(y_val, pred_val))"
   ]
  },
  {
   "cell_type": "markdown",
   "metadata": {},
   "source": [
    "## Insights"
   ]
  },
  {
   "cell_type": "code",
   "execution_count": 31,
   "metadata": {},
   "outputs": [],
   "source": [
    "from sklearn.feature_selection import SelectKBest"
   ]
  },
  {
   "cell_type": "code",
   "execution_count": 80,
   "metadata": {},
   "outputs": [
    {
     "name": "stdout",
     "output_type": "stream",
     "text": [
      "11 0.7019038076152304\n",
      "10 0.7029058116232465\n",
      "9 0.7034068136272545\n",
      "8 0.7034068136272545\n",
      "7 0.7069138276553106\n",
      "6 0.7024048096192385\n",
      "5 0.7049098196392786\n",
      "4 0.7094188376753507\n",
      "3 0.7099198396793587\n"
     ]
    }
   ],
   "source": [
    "model = RandomForestClassifier(max_depth=10)\n",
    "\n",
    "for i in range(x_train.shape[1], 2, -1):\n",
    "    skb = SelectKBest(k = i)\n",
    "    xx = skb.fit_transform(x_train, y_train)\n",
    "    model.fit(xx, y_train)\n",
    "    pred = model.predict(skb.transform(x_val))\n",
    "    print(i, accuracy_score(y_val, pred))"
   ]
  },
  {
   "cell_type": "code",
   "execution_count": 33,
   "metadata": {},
   "outputs": [
    {
     "name": "stdout",
     "output_type": "stream",
     "text": [
      "1 0.6788577154308617\n",
      "3 0.7715430861723447\n",
      "5 0.7790581162324649\n",
      "7 0.7980961923847696\n",
      "9 0.8171342685370742\n",
      "11 0.8331663326653307\n",
      "13 0.8512024048096193\n",
      "15 0.8552104208416834\n",
      "17 0.8532064128256514\n",
      "19 0.8522044088176353\n",
      "21 0.8527054108216433\n",
      "23 0.842685370741483\n",
      "25 0.8527054108216433\n",
      "27 0.8471943887775552\n",
      "29 0.8517034068136272\n"
     ]
    }
   ],
   "source": [
    "\n",
    "for i in range(1,30, 2):\n",
    "    clf2 = RandomForestClassifier(max_depth=i)\n",
    "    clf2.fit(x_train, y_train)\n",
    "    pred = clf2.predict(x_val)\n",
    "    print(i, accuracy_score(y_val, pred))"
   ]
  },
  {
   "cell_type": "markdown",
   "metadata": {},
   "source": [
    "# TESTE - RESULTADO "
   ]
  },
  {
   "cell_type": "code",
   "execution_count": 137,
   "metadata": {},
   "outputs": [],
   "source": [
    "data_test = pd.read_csv('to_be_scored.csv')\n"
   ]
  },
  {
   "cell_type": "code",
   "execution_count": 139,
   "metadata": {},
   "outputs": [
    {
     "data": {
      "text/html": [
       "<div>\n",
       "<style scoped>\n",
       "    .dataframe tbody tr th:only-of-type {\n",
       "        vertical-align: middle;\n",
       "    }\n",
       "\n",
       "    .dataframe tbody tr th {\n",
       "        vertical-align: top;\n",
       "    }\n",
       "\n",
       "    .dataframe thead th {\n",
       "        text-align: right;\n",
       "    }\n",
       "</style>\n",
       "<table border=\"1\" class=\"dataframe\">\n",
       "  <thead>\n",
       "    <tr style=\"text-align: right;\">\n",
       "      <th></th>\n",
       "      <th>Tempo</th>\n",
       "      <th>Estação</th>\n",
       "      <th>LAT</th>\n",
       "      <th>LONG</th>\n",
       "      <th>Movimentação</th>\n",
       "      <th>Original_473</th>\n",
       "      <th>Original_269</th>\n",
       "      <th>Zero</th>\n",
       "      <th>Maçã-Verde</th>\n",
       "      <th>Tangerina</th>\n",
       "      <th>Citrus</th>\n",
       "      <th>Açaí-Guaraná</th>\n",
       "      <th>Pêssego</th>\n",
       "    </tr>\n",
       "  </thead>\n",
       "  <tbody>\n",
       "    <tr>\n",
       "      <th>0</th>\n",
       "      <td>2018-11-30</td>\n",
       "      <td>Moema</td>\n",
       "      <td>-23.5489</td>\n",
       "      <td>-46.6388</td>\n",
       "      <td>17533</td>\n",
       "      <td>22</td>\n",
       "      <td>65</td>\n",
       "      <td>22</td>\n",
       "      <td>14</td>\n",
       "      <td>3</td>\n",
       "      <td>26</td>\n",
       "      <td>43</td>\n",
       "      <td>18</td>\n",
       "    </tr>\n",
       "    <tr>\n",
       "      <th>1</th>\n",
       "      <td>2018-12-1</td>\n",
       "      <td>Moema</td>\n",
       "      <td>-23.5489</td>\n",
       "      <td>-46.6388</td>\n",
       "      <td>18412</td>\n",
       "      <td>11</td>\n",
       "      <td>56</td>\n",
       "      <td>16</td>\n",
       "      <td>14</td>\n",
       "      <td>43</td>\n",
       "      <td>20</td>\n",
       "      <td>37</td>\n",
       "      <td>15</td>\n",
       "    </tr>\n",
       "    <tr>\n",
       "      <th>2</th>\n",
       "      <td>2018-12-2</td>\n",
       "      <td>Moema</td>\n",
       "      <td>-23.5489</td>\n",
       "      <td>-46.6388</td>\n",
       "      <td>19600</td>\n",
       "      <td>86</td>\n",
       "      <td>51</td>\n",
       "      <td>8</td>\n",
       "      <td>11</td>\n",
       "      <td>41</td>\n",
       "      <td>20</td>\n",
       "      <td>35</td>\n",
       "      <td>12</td>\n",
       "    </tr>\n",
       "    <tr>\n",
       "      <th>3</th>\n",
       "      <td>2018-12-3</td>\n",
       "      <td>Moema</td>\n",
       "      <td>-23.5489</td>\n",
       "      <td>-46.6388</td>\n",
       "      <td>20303</td>\n",
       "      <td>76</td>\n",
       "      <td>47</td>\n",
       "      <td>65</td>\n",
       "      <td>11</td>\n",
       "      <td>37</td>\n",
       "      <td>14</td>\n",
       "      <td>32</td>\n",
       "      <td>10</td>\n",
       "    </tr>\n",
       "    <tr>\n",
       "      <th>4</th>\n",
       "      <td>2018-12-4</td>\n",
       "      <td>Moema</td>\n",
       "      <td>-23.5489</td>\n",
       "      <td>-46.6388</td>\n",
       "      <td>17085</td>\n",
       "      <td>68</td>\n",
       "      <td>42</td>\n",
       "      <td>60</td>\n",
       "      <td>6</td>\n",
       "      <td>35</td>\n",
       "      <td>13</td>\n",
       "      <td>26</td>\n",
       "      <td>5</td>\n",
       "    </tr>\n",
       "  </tbody>\n",
       "</table>\n",
       "</div>"
      ],
      "text/plain": [
       "        Tempo Estação      LAT     LONG  Movimentação  Original_473  \\\n",
       "0  2018-11-30   Moema -23.5489 -46.6388         17533            22   \n",
       "1   2018-12-1   Moema -23.5489 -46.6388         18412            11   \n",
       "2   2018-12-2   Moema -23.5489 -46.6388         19600            86   \n",
       "3   2018-12-3   Moema -23.5489 -46.6388         20303            76   \n",
       "4   2018-12-4   Moema -23.5489 -46.6388         17085            68   \n",
       "\n",
       "   Original_269  Zero  Maçã-Verde  Tangerina  Citrus  Açaí-Guaraná  Pêssego  \n",
       "0            65    22          14          3      26            43       18  \n",
       "1            56    16          14         43      20            37       15  \n",
       "2            51     8          11         41      20            35       12  \n",
       "3            47    65          11         37      14            32       10  \n",
       "4            42    60           6         35      13            26        5  "
      ]
     },
     "execution_count": 139,
     "metadata": {},
     "output_type": "execute_result"
    }
   ],
   "source": [
    "data_test.head()"
   ]
  },
  {
   "cell_type": "code",
   "execution_count": 145,
   "metadata": {},
   "outputs": [
    {
     "data": {
      "text/html": [
       "<div>\n",
       "<style scoped>\n",
       "    .dataframe tbody tr th:only-of-type {\n",
       "        vertical-align: middle;\n",
       "    }\n",
       "\n",
       "    .dataframe tbody tr th {\n",
       "        vertical-align: top;\n",
       "    }\n",
       "\n",
       "    .dataframe thead th {\n",
       "        text-align: right;\n",
       "    }\n",
       "</style>\n",
       "<table border=\"1\" class=\"dataframe\">\n",
       "  <thead>\n",
       "    <tr style=\"text-align: right;\">\n",
       "      <th></th>\n",
       "      <th>Original_473</th>\n",
       "      <th>Original_269</th>\n",
       "      <th>Zero</th>\n",
       "      <th>Maçã-Verde</th>\n",
       "      <th>Tangerina</th>\n",
       "      <th>Citrus</th>\n",
       "      <th>Açaí-Guaraná</th>\n",
       "      <th>Pêssego</th>\n",
       "    </tr>\n",
       "  </thead>\n",
       "  <tbody>\n",
       "    <tr>\n",
       "      <th>0</th>\n",
       "      <td>22</td>\n",
       "      <td>65</td>\n",
       "      <td>22</td>\n",
       "      <td>14</td>\n",
       "      <td>3</td>\n",
       "      <td>26</td>\n",
       "      <td>43</td>\n",
       "      <td>18</td>\n",
       "    </tr>\n",
       "    <tr>\n",
       "      <th>1</th>\n",
       "      <td>11</td>\n",
       "      <td>56</td>\n",
       "      <td>16</td>\n",
       "      <td>14</td>\n",
       "      <td>43</td>\n",
       "      <td>20</td>\n",
       "      <td>37</td>\n",
       "      <td>15</td>\n",
       "    </tr>\n",
       "    <tr>\n",
       "      <th>2</th>\n",
       "      <td>86</td>\n",
       "      <td>51</td>\n",
       "      <td>8</td>\n",
       "      <td>11</td>\n",
       "      <td>41</td>\n",
       "      <td>20</td>\n",
       "      <td>35</td>\n",
       "      <td>12</td>\n",
       "    </tr>\n",
       "    <tr>\n",
       "      <th>3</th>\n",
       "      <td>76</td>\n",
       "      <td>47</td>\n",
       "      <td>65</td>\n",
       "      <td>11</td>\n",
       "      <td>37</td>\n",
       "      <td>14</td>\n",
       "      <td>32</td>\n",
       "      <td>10</td>\n",
       "    </tr>\n",
       "    <tr>\n",
       "      <th>4</th>\n",
       "      <td>68</td>\n",
       "      <td>42</td>\n",
       "      <td>60</td>\n",
       "      <td>6</td>\n",
       "      <td>35</td>\n",
       "      <td>13</td>\n",
       "      <td>26</td>\n",
       "      <td>5</td>\n",
       "    </tr>\n",
       "  </tbody>\n",
       "</table>\n",
       "</div>"
      ],
      "text/plain": [
       "   Original_473  Original_269  Zero  Maçã-Verde  Tangerina  Citrus  \\\n",
       "0            22            65    22          14          3      26   \n",
       "1            11            56    16          14         43      20   \n",
       "2            86            51     8          11         41      20   \n",
       "3            76            47    65          11         37      14   \n",
       "4            68            42    60           6         35      13   \n",
       "\n",
       "   Açaí-Guaraná  Pêssego  \n",
       "0            43       18  \n",
       "1            37       15  \n",
       "2            35       12  \n",
       "3            32       10  \n",
       "4            26        5  "
      ]
     },
     "execution_count": 145,
     "metadata": {},
     "output_type": "execute_result"
    }
   ],
   "source": [
    "x_test = data_test.drop(['LAT', 'LONG', 'Estação', 'Tempo', 'Movimentação'], axis=1)\n",
    "x_test.head()"
   ]
  },
  {
   "cell_type": "code",
   "execution_count": 146,
   "metadata": {},
   "outputs": [
    {
     "data": {
      "text/html": [
       "<div>\n",
       "<style scoped>\n",
       "    .dataframe tbody tr th:only-of-type {\n",
       "        vertical-align: middle;\n",
       "    }\n",
       "\n",
       "    .dataframe tbody tr th {\n",
       "        vertical-align: top;\n",
       "    }\n",
       "\n",
       "    .dataframe thead th {\n",
       "        text-align: right;\n",
       "    }\n",
       "</style>\n",
       "<table border=\"1\" class=\"dataframe\">\n",
       "  <thead>\n",
       "    <tr style=\"text-align: right;\">\n",
       "      <th></th>\n",
       "      <th>Original_473</th>\n",
       "      <th>Original_269</th>\n",
       "      <th>Zero</th>\n",
       "      <th>Maçã-Verde</th>\n",
       "      <th>Tangerina</th>\n",
       "      <th>Citrus</th>\n",
       "      <th>Açaí-Guaraná</th>\n",
       "      <th>Pêssego</th>\n",
       "      <th>target</th>\n",
       "    </tr>\n",
       "  </thead>\n",
       "  <tbody>\n",
       "    <tr>\n",
       "      <th>0</th>\n",
       "      <td>22</td>\n",
       "      <td>65</td>\n",
       "      <td>22</td>\n",
       "      <td>14</td>\n",
       "      <td>3</td>\n",
       "      <td>26</td>\n",
       "      <td>43</td>\n",
       "      <td>18</td>\n",
       "      <td>REABASTECER</td>\n",
       "    </tr>\n",
       "    <tr>\n",
       "      <th>1</th>\n",
       "      <td>11</td>\n",
       "      <td>56</td>\n",
       "      <td>16</td>\n",
       "      <td>14</td>\n",
       "      <td>43</td>\n",
       "      <td>20</td>\n",
       "      <td>37</td>\n",
       "      <td>15</td>\n",
       "      <td>NORMAL</td>\n",
       "    </tr>\n",
       "    <tr>\n",
       "      <th>2</th>\n",
       "      <td>86</td>\n",
       "      <td>51</td>\n",
       "      <td>8</td>\n",
       "      <td>11</td>\n",
       "      <td>41</td>\n",
       "      <td>20</td>\n",
       "      <td>35</td>\n",
       "      <td>12</td>\n",
       "      <td>NORMAL</td>\n",
       "    </tr>\n",
       "    <tr>\n",
       "      <th>3</th>\n",
       "      <td>76</td>\n",
       "      <td>47</td>\n",
       "      <td>65</td>\n",
       "      <td>11</td>\n",
       "      <td>37</td>\n",
       "      <td>14</td>\n",
       "      <td>32</td>\n",
       "      <td>10</td>\n",
       "      <td>NORMAL</td>\n",
       "    </tr>\n",
       "    <tr>\n",
       "      <th>4</th>\n",
       "      <td>68</td>\n",
       "      <td>42</td>\n",
       "      <td>60</td>\n",
       "      <td>6</td>\n",
       "      <td>35</td>\n",
       "      <td>13</td>\n",
       "      <td>26</td>\n",
       "      <td>5</td>\n",
       "      <td>REABASTECER</td>\n",
       "    </tr>\n",
       "  </tbody>\n",
       "</table>\n",
       "</div>"
      ],
      "text/plain": [
       "   Original_473  Original_269  Zero  Maçã-Verde  Tangerina  Citrus  \\\n",
       "0            22            65    22          14          3      26   \n",
       "1            11            56    16          14         43      20   \n",
       "2            86            51     8          11         41      20   \n",
       "3            76            47    65          11         37      14   \n",
       "4            68            42    60           6         35      13   \n",
       "\n",
       "   Açaí-Guaraná  Pêssego       target  \n",
       "0            43       18  REABASTECER  \n",
       "1            37       15       NORMAL  \n",
       "2            35       12       NORMAL  \n",
       "3            32       10       NORMAL  \n",
       "4            26        5  REABASTECER  "
      ]
     },
     "execution_count": 146,
     "metadata": {},
     "output_type": "execute_result"
    }
   ],
   "source": [
    "y_pred = clf.predict(x_test)\n",
    "result = x_test\n",
    "result['target'] = y_pred\n",
    "result.head()"
   ]
  },
  {
   "cell_type": "code",
   "execution_count": 147,
   "metadata": {},
   "outputs": [],
   "source": [
    "result.to_csv('results.csv', index=False)"
   ]
  },
  {
   "cell_type": "code",
   "execution_count": 148,
   "metadata": {},
   "outputs": [
    {
     "data": {
      "text/html": [
       "<div>\n",
       "<style scoped>\n",
       "    .dataframe tbody tr th:only-of-type {\n",
       "        vertical-align: middle;\n",
       "    }\n",
       "\n",
       "    .dataframe tbody tr th {\n",
       "        vertical-align: top;\n",
       "    }\n",
       "\n",
       "    .dataframe thead th {\n",
       "        text-align: right;\n",
       "    }\n",
       "</style>\n",
       "<table border=\"1\" class=\"dataframe\">\n",
       "  <thead>\n",
       "    <tr style=\"text-align: right;\">\n",
       "      <th></th>\n",
       "      <th>Original_473</th>\n",
       "      <th>Original_269</th>\n",
       "      <th>Zero</th>\n",
       "      <th>Maçã-Verde</th>\n",
       "      <th>Tangerina</th>\n",
       "      <th>Citrus</th>\n",
       "      <th>Açaí-Guaraná</th>\n",
       "      <th>Pêssego</th>\n",
       "      <th>target</th>\n",
       "    </tr>\n",
       "  </thead>\n",
       "  <tbody>\n",
       "    <tr>\n",
       "      <th>0</th>\n",
       "      <td>22</td>\n",
       "      <td>65</td>\n",
       "      <td>22</td>\n",
       "      <td>14</td>\n",
       "      <td>3</td>\n",
       "      <td>26</td>\n",
       "      <td>43</td>\n",
       "      <td>18</td>\n",
       "      <td>REABASTECER</td>\n",
       "    </tr>\n",
       "    <tr>\n",
       "      <th>1</th>\n",
       "      <td>11</td>\n",
       "      <td>56</td>\n",
       "      <td>16</td>\n",
       "      <td>14</td>\n",
       "      <td>43</td>\n",
       "      <td>20</td>\n",
       "      <td>37</td>\n",
       "      <td>15</td>\n",
       "      <td>NORMAL</td>\n",
       "    </tr>\n",
       "    <tr>\n",
       "      <th>2</th>\n",
       "      <td>86</td>\n",
       "      <td>51</td>\n",
       "      <td>8</td>\n",
       "      <td>11</td>\n",
       "      <td>41</td>\n",
       "      <td>20</td>\n",
       "      <td>35</td>\n",
       "      <td>12</td>\n",
       "      <td>NORMAL</td>\n",
       "    </tr>\n",
       "    <tr>\n",
       "      <th>3</th>\n",
       "      <td>76</td>\n",
       "      <td>47</td>\n",
       "      <td>65</td>\n",
       "      <td>11</td>\n",
       "      <td>37</td>\n",
       "      <td>14</td>\n",
       "      <td>32</td>\n",
       "      <td>10</td>\n",
       "      <td>NORMAL</td>\n",
       "    </tr>\n",
       "    <tr>\n",
       "      <th>4</th>\n",
       "      <td>68</td>\n",
       "      <td>42</td>\n",
       "      <td>60</td>\n",
       "      <td>6</td>\n",
       "      <td>35</td>\n",
       "      <td>13</td>\n",
       "      <td>26</td>\n",
       "      <td>5</td>\n",
       "      <td>REABASTECER</td>\n",
       "    </tr>\n",
       "  </tbody>\n",
       "</table>\n",
       "</div>"
      ],
      "text/plain": [
       "   Original_473  Original_269  Zero  Maçã-Verde  Tangerina  Citrus  \\\n",
       "0            22            65    22          14          3      26   \n",
       "1            11            56    16          14         43      20   \n",
       "2            86            51     8          11         41      20   \n",
       "3            76            47    65          11         37      14   \n",
       "4            68            42    60           6         35      13   \n",
       "\n",
       "   Açaí-Guaraná  Pêssego       target  \n",
       "0            43       18  REABASTECER  \n",
       "1            37       15       NORMAL  \n",
       "2            35       12       NORMAL  \n",
       "3            32       10       NORMAL  \n",
       "4            26        5  REABASTECER  "
      ]
     },
     "execution_count": 148,
     "metadata": {},
     "output_type": "execute_result"
    }
   ],
   "source": [
    "result.head()"
   ]
  },
  {
   "cell_type": "code",
   "execution_count": null,
   "metadata": {},
   "outputs": [],
   "source": []
  }
 ],
 "metadata": {
  "kernelspec": {
   "display_name": "Python 3",
   "language": "python",
   "name": "python3"
  },
  "language_info": {
   "codemirror_mode": {
    "name": "ipython",
    "version": 3
   },
   "file_extension": ".py",
   "mimetype": "text/x-python",
   "name": "python",
   "nbconvert_exporter": "python",
   "pygments_lexer": "ipython3",
   "version": "3.7.7"
  }
 },
 "nbformat": 4,
 "nbformat_minor": 4
}
